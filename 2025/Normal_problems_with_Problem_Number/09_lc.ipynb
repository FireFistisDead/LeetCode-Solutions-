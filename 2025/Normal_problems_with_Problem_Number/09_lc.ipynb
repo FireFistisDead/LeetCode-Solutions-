{
 "cells": [
  {
   "cell_type": "markdown",
   "id": "3ab2d209",
   "metadata": {},
   "source": [
    "## Python Code\n",
    "- It is easy in python to do and also the logic is robust and easy to read </br></br>\n",
    "`Time complexity O(n)`</br>\n",
    "`Space complexity O(n)`"
   ]
  },
  {
   "cell_type": "code",
   "execution_count": null,
   "id": "d48be349",
   "metadata": {
    "vscode": {
     "languageId": "plaintext"
    }
   },
   "outputs": [],
   "source": [
    "class Solution(object):\n",
    "    def isPalindrome(self, x):\n",
    "        x = str(x)\n",
    "\n",
    "        n = x[::-1]\n",
    "\n",
    "        if x == n:\n",
    "            return True\n",
    "        return False\n",
    "        "
   ]
  }
 ],
 "metadata": {
  "language_info": {
   "name": "python"
  }
 },
 "nbformat": 4,
 "nbformat_minor": 5
}
